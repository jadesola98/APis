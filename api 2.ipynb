{
 "cells": [
  {
   "cell_type": "markdown",
   "metadata": {},
   "source": [
    "import necessary libraries"
   ]
  },
  {
   "cell_type": "code",
   "execution_count": 1,
   "metadata": {},
   "outputs": [],
   "source": [
    "import requests\n",
    "import pandas as pd"
   ]
  },
  {
   "cell_type": "markdown",
   "metadata": {},
   "source": [
    "assign api to variable"
   ]
  },
  {
   "cell_type": "code",
   "execution_count": 2,
   "metadata": {},
   "outputs": [],
   "source": [
    "url = \"https://www.thecocktaildb.com/api/json/v1/1/search.php?s=margarita\""
   ]
  },
  {
   "cell_type": "markdown",
   "metadata": {},
   "source": [
    "check error response for api"
   ]
  },
  {
   "cell_type": "code",
   "execution_count": 3,
   "metadata": {},
   "outputs": [
    {
     "data": {
      "text/plain": [
       "<Response [200]>"
      ]
     },
     "execution_count": 3,
     "metadata": {},
     "output_type": "execute_result"
    }
   ],
   "source": [
    "requests.get(url)"
   ]
  },
  {
   "cell_type": "markdown",
   "metadata": {},
   "source": [
    "inspect data"
   ]
  },
  {
   "cell_type": "code",
   "execution_count": null,
   "metadata": {},
   "outputs": [],
   "source": [
    "requests.get(url).json()"
   ]
  },
  {
   "cell_type": "markdown",
   "metadata": {},
   "source": [
    "assign result to a variable"
   ]
  },
  {
   "cell_type": "code",
   "execution_count": 7,
   "metadata": {},
   "outputs": [],
   "source": [
    "data = requests.get(url).json()"
   ]
  },
  {
   "cell_type": "markdown",
   "metadata": {},
   "source": [
    "convert result to dataframe"
   ]
  },
  {
   "cell_type": "code",
   "execution_count": 8,
   "metadata": {},
   "outputs": [
    {
     "data": {
      "text/html": [
       "<div>\n",
       "<style scoped>\n",
       "    .dataframe tbody tr th:only-of-type {\n",
       "        vertical-align: middle;\n",
       "    }\n",
       "\n",
       "    .dataframe tbody tr th {\n",
       "        vertical-align: top;\n",
       "    }\n",
       "\n",
       "    .dataframe thead th {\n",
       "        text-align: right;\n",
       "    }\n",
       "</style>\n",
       "<table border=\"1\" class=\"dataframe\">\n",
       "  <thead>\n",
       "    <tr style=\"text-align: right;\">\n",
       "      <th></th>\n",
       "      <th>idDrink</th>\n",
       "      <th>strDrink</th>\n",
       "      <th>strDrinkAlternate</th>\n",
       "      <th>strTags</th>\n",
       "      <th>strVideo</th>\n",
       "      <th>strCategory</th>\n",
       "      <th>strIBA</th>\n",
       "      <th>strAlcoholic</th>\n",
       "      <th>strGlass</th>\n",
       "      <th>strInstructions</th>\n",
       "      <th>...</th>\n",
       "      <th>strMeasure10</th>\n",
       "      <th>strMeasure11</th>\n",
       "      <th>strMeasure12</th>\n",
       "      <th>strMeasure13</th>\n",
       "      <th>strMeasure14</th>\n",
       "      <th>strMeasure15</th>\n",
       "      <th>strImageSource</th>\n",
       "      <th>strImageAttribution</th>\n",
       "      <th>strCreativeCommonsConfirmed</th>\n",
       "      <th>dateModified</th>\n",
       "    </tr>\n",
       "  </thead>\n",
       "  <tbody>\n",
       "    <tr>\n",
       "      <th>0</th>\n",
       "      <td>11007</td>\n",
       "      <td>Margarita</td>\n",
       "      <td>None</td>\n",
       "      <td>IBA,ContemporaryClassic</td>\n",
       "      <td>None</td>\n",
       "      <td>Ordinary Drink</td>\n",
       "      <td>Contemporary Classics</td>\n",
       "      <td>Alcoholic</td>\n",
       "      <td>Cocktail glass</td>\n",
       "      <td>Rub the rim of the glass with the lime slice t...</td>\n",
       "      <td>...</td>\n",
       "      <td>None</td>\n",
       "      <td>None</td>\n",
       "      <td>None</td>\n",
       "      <td>None</td>\n",
       "      <td>None</td>\n",
       "      <td>None</td>\n",
       "      <td>https://commons.wikimedia.org/wiki/File:Klassi...</td>\n",
       "      <td>Cocktailmarler</td>\n",
       "      <td>Yes</td>\n",
       "      <td>2015-08-18 14:42:59</td>\n",
       "    </tr>\n",
       "    <tr>\n",
       "      <th>1</th>\n",
       "      <td>11118</td>\n",
       "      <td>Blue Margarita</td>\n",
       "      <td>None</td>\n",
       "      <td>None</td>\n",
       "      <td>None</td>\n",
       "      <td>Ordinary Drink</td>\n",
       "      <td>None</td>\n",
       "      <td>Alcoholic</td>\n",
       "      <td>Cocktail glass</td>\n",
       "      <td>Rub rim of cocktail glass with lime juice. Dip...</td>\n",
       "      <td>...</td>\n",
       "      <td>None</td>\n",
       "      <td>None</td>\n",
       "      <td>None</td>\n",
       "      <td>None</td>\n",
       "      <td>None</td>\n",
       "      <td>None</td>\n",
       "      <td>None</td>\n",
       "      <td>None</td>\n",
       "      <td>Yes</td>\n",
       "      <td>2015-08-18 14:51:53</td>\n",
       "    </tr>\n",
       "    <tr>\n",
       "      <th>2</th>\n",
       "      <td>17216</td>\n",
       "      <td>Tommy's Margarita</td>\n",
       "      <td>None</td>\n",
       "      <td>IBA,NewEra</td>\n",
       "      <td>None</td>\n",
       "      <td>Ordinary Drink</td>\n",
       "      <td>New Era Drinks</td>\n",
       "      <td>Alcoholic</td>\n",
       "      <td>Old-Fashioned glass</td>\n",
       "      <td>Shake and strain into a chilled cocktail glass.</td>\n",
       "      <td>...</td>\n",
       "      <td>None</td>\n",
       "      <td>None</td>\n",
       "      <td>None</td>\n",
       "      <td>None</td>\n",
       "      <td>None</td>\n",
       "      <td>None</td>\n",
       "      <td>None</td>\n",
       "      <td>None</td>\n",
       "      <td>No</td>\n",
       "      <td>2017-09-02 18:37:54</td>\n",
       "    </tr>\n",
       "    <tr>\n",
       "      <th>3</th>\n",
       "      <td>16158</td>\n",
       "      <td>Whitecap Margarita</td>\n",
       "      <td>None</td>\n",
       "      <td>None</td>\n",
       "      <td>None</td>\n",
       "      <td>Other/Unknown</td>\n",
       "      <td>None</td>\n",
       "      <td>Alcoholic</td>\n",
       "      <td>Margarita/Coupette glass</td>\n",
       "      <td>Place all ingredients in a blender and blend u...</td>\n",
       "      <td>...</td>\n",
       "      <td>None</td>\n",
       "      <td>None</td>\n",
       "      <td>None</td>\n",
       "      <td>None</td>\n",
       "      <td>None</td>\n",
       "      <td>None</td>\n",
       "      <td>None</td>\n",
       "      <td>None</td>\n",
       "      <td>No</td>\n",
       "      <td>2015-09-02 17:00:22</td>\n",
       "    </tr>\n",
       "    <tr>\n",
       "      <th>4</th>\n",
       "      <td>12322</td>\n",
       "      <td>Strawberry Margarita</td>\n",
       "      <td>None</td>\n",
       "      <td>None</td>\n",
       "      <td>None</td>\n",
       "      <td>Ordinary Drink</td>\n",
       "      <td>None</td>\n",
       "      <td>Alcoholic</td>\n",
       "      <td>Cocktail glass</td>\n",
       "      <td>Rub rim of cocktail glass with lemon juice and...</td>\n",
       "      <td>...</td>\n",
       "      <td>None</td>\n",
       "      <td>None</td>\n",
       "      <td>None</td>\n",
       "      <td>None</td>\n",
       "      <td>None</td>\n",
       "      <td>None</td>\n",
       "      <td>None</td>\n",
       "      <td>None</td>\n",
       "      <td>No</td>\n",
       "      <td>2015-08-18 14:41:51</td>\n",
       "    </tr>\n",
       "    <tr>\n",
       "      <th>5</th>\n",
       "      <td>178332</td>\n",
       "      <td>Smashed Watermelon Margarita</td>\n",
       "      <td>None</td>\n",
       "      <td>None</td>\n",
       "      <td>None</td>\n",
       "      <td>Cocktail</td>\n",
       "      <td>None</td>\n",
       "      <td>Alcoholic</td>\n",
       "      <td>Collins glass</td>\n",
       "      <td>In a mason jar muddle the watermelon and 5 min...</td>\n",
       "      <td>...</td>\n",
       "      <td>None</td>\n",
       "      <td>None</td>\n",
       "      <td>None</td>\n",
       "      <td>None</td>\n",
       "      <td>None</td>\n",
       "      <td>None</td>\n",
       "      <td>None</td>\n",
       "      <td>None</td>\n",
       "      <td>No</td>\n",
       "      <td>None</td>\n",
       "    </tr>\n",
       "  </tbody>\n",
       "</table>\n",
       "<p>6 rows × 51 columns</p>\n",
       "</div>"
      ],
      "text/plain": [
       "  idDrink                      strDrink strDrinkAlternate  \\\n",
       "0   11007                     Margarita              None   \n",
       "1   11118                Blue Margarita              None   \n",
       "2   17216             Tommy's Margarita              None   \n",
       "3   16158            Whitecap Margarita              None   \n",
       "4   12322          Strawberry Margarita              None   \n",
       "5  178332  Smashed Watermelon Margarita              None   \n",
       "\n",
       "                   strTags strVideo     strCategory                 strIBA  \\\n",
       "0  IBA,ContemporaryClassic     None  Ordinary Drink  Contemporary Classics   \n",
       "1                     None     None  Ordinary Drink                   None   \n",
       "2               IBA,NewEra     None  Ordinary Drink         New Era Drinks   \n",
       "3                     None     None   Other/Unknown                   None   \n",
       "4                     None     None  Ordinary Drink                   None   \n",
       "5                     None     None        Cocktail                   None   \n",
       "\n",
       "  strAlcoholic                  strGlass  \\\n",
       "0    Alcoholic            Cocktail glass   \n",
       "1    Alcoholic            Cocktail glass   \n",
       "2    Alcoholic       Old-Fashioned glass   \n",
       "3    Alcoholic  Margarita/Coupette glass   \n",
       "4    Alcoholic            Cocktail glass   \n",
       "5    Alcoholic             Collins glass   \n",
       "\n",
       "                                     strInstructions  ... strMeasure10  \\\n",
       "0  Rub the rim of the glass with the lime slice t...  ...         None   \n",
       "1  Rub rim of cocktail glass with lime juice. Dip...  ...         None   \n",
       "2    Shake and strain into a chilled cocktail glass.  ...         None   \n",
       "3  Place all ingredients in a blender and blend u...  ...         None   \n",
       "4  Rub rim of cocktail glass with lemon juice and...  ...         None   \n",
       "5  In a mason jar muddle the watermelon and 5 min...  ...         None   \n",
       "\n",
       "  strMeasure11 strMeasure12 strMeasure13 strMeasure14 strMeasure15  \\\n",
       "0         None         None         None         None         None   \n",
       "1         None         None         None         None         None   \n",
       "2         None         None         None         None         None   \n",
       "3         None         None         None         None         None   \n",
       "4         None         None         None         None         None   \n",
       "5         None         None         None         None         None   \n",
       "\n",
       "                                      strImageSource strImageAttribution  \\\n",
       "0  https://commons.wikimedia.org/wiki/File:Klassi...      Cocktailmarler   \n",
       "1                                               None                None   \n",
       "2                                               None                None   \n",
       "3                                               None                None   \n",
       "4                                               None                None   \n",
       "5                                               None                None   \n",
       "\n",
       "  strCreativeCommonsConfirmed         dateModified  \n",
       "0                         Yes  2015-08-18 14:42:59  \n",
       "1                         Yes  2015-08-18 14:51:53  \n",
       "2                          No  2017-09-02 18:37:54  \n",
       "3                          No  2015-09-02 17:00:22  \n",
       "4                          No  2015-08-18 14:41:51  \n",
       "5                          No                 None  \n",
       "\n",
       "[6 rows x 51 columns]"
      ]
     },
     "execution_count": 8,
     "metadata": {},
     "output_type": "execute_result"
    }
   ],
   "source": [
    "pd.DataFrame(data[\"drinks\"])"
   ]
  },
  {
   "cell_type": "code",
   "execution_count": null,
   "metadata": {},
   "outputs": [],
   "source": []
  }
 ],
 "metadata": {
  "kernelspec": {
   "display_name": "Python 3",
   "language": "python",
   "name": "python3"
  },
  "language_info": {
   "codemirror_mode": {
    "name": "ipython",
    "version": 3
   },
   "file_extension": ".py",
   "mimetype": "text/x-python",
   "name": "python",
   "nbconvert_exporter": "python",
   "pygments_lexer": "ipython3",
   "version": "3.8.5"
  }
 },
 "nbformat": 4,
 "nbformat_minor": 4
}
