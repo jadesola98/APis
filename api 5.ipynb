{
 "cells": [
  {
   "cell_type": "markdown",
   "metadata": {},
   "source": [
    "import necessary libraries"
   ]
  },
  {
   "cell_type": "code",
   "execution_count": 1,
   "metadata": {},
   "outputs": [],
   "source": [
    "import requests\n",
    "import pandas as pd"
   ]
  },
  {
   "cell_type": "markdown",
   "metadata": {},
   "source": [
    "assign api to variable"
   ]
  },
  {
   "cell_type": "code",
   "execution_count": 2,
   "metadata": {},
   "outputs": [],
   "source": [
    "url = \"https://api.teleport.org/api/urban_areas/teleport%3A9q8yy/scores/\""
   ]
  },
  {
   "cell_type": "markdown",
   "metadata": {},
   "source": [
    "check error response for api"
   ]
  },
  {
   "cell_type": "code",
   "execution_count": 4,
   "metadata": {},
   "outputs": [],
   "source": [
    "data = requests.get(url).json()"
   ]
  },
  {
   "cell_type": "code",
   "execution_count": 5,
   "metadata": {
    "collapsed": true
   },
   "outputs": [
    {
     "data": {
      "text/plain": [
       "{'_links': {'curies': [{'href': 'https://developers.teleport.org/api/resources/Location/#!/relations/{rel}/',\n",
       "    'name': 'location',\n",
       "    'templated': True},\n",
       "   {'href': 'https://developers.teleport.org/api/resources/City/#!/relations/{rel}/',\n",
       "    'name': 'city',\n",
       "    'templated': True},\n",
       "   {'href': 'https://developers.teleport.org/api/resources/UrbanArea/#!/relations/{rel}/',\n",
       "    'name': 'ua',\n",
       "    'templated': True},\n",
       "   {'href': 'https://developers.teleport.org/api/resources/Country/#!/relations/{rel}/',\n",
       "    'name': 'country',\n",
       "    'templated': True},\n",
       "   {'href': 'https://developers.teleport.org/api/resources/Admin1Division/#!/relations/{rel}/',\n",
       "    'name': 'a1',\n",
       "    'templated': True},\n",
       "   {'href': 'https://developers.teleport.org/api/resources/Timezone/#!/relations/{rel}/',\n",
       "    'name': 'tz',\n",
       "    'templated': True}],\n",
       "  'self': {'href': 'https://api.teleport.org/api/urban_areas/slug:san-francisco-bay-area/scores/'}},\n",
       " 'categories': [{'color': '#f3c32c',\n",
       "   'name': 'Housing',\n",
       "   'score_out_of_10': 1.0},\n",
       "  {'color': '#f3d630', 'name': 'Cost of Living', 'score_out_of_10': 2.618},\n",
       "  {'color': '#f4eb33', 'name': 'Startups', 'score_out_of_10': 10.0},\n",
       "  {'color': '#d2ed31', 'name': 'Venture Capital', 'score_out_of_10': 10.0},\n",
       "  {'color': '#7adc29',\n",
       "   'name': 'Travel Connectivity',\n",
       "   'score_out_of_10': 3.6545000000000005},\n",
       "  {'color': '#36cc24',\n",
       "   'name': 'Commute',\n",
       "   'score_out_of_10': 4.687250000000001},\n",
       "  {'color': '#19ad51', 'name': 'Business Freedom', 'score_out_of_10': 8.671},\n",
       "  {'color': '#0d6999',\n",
       "   'name': 'Safety',\n",
       "   'score_out_of_10': 5.7155000000000005},\n",
       "  {'color': '#051fa5', 'name': 'Healthcare', 'score_out_of_10': 8.748},\n",
       "  {'color': '#150e78', 'name': 'Education', 'score_out_of_10': 8.6245},\n",
       "  {'color': '#3d14a4',\n",
       "   'name': 'Environmental Quality',\n",
       "   'score_out_of_10': 6.4815000000000005},\n",
       "  {'color': '#5c14a1', 'name': 'Economy', 'score_out_of_10': 6.5145},\n",
       "  {'color': '#88149f', 'name': 'Taxation', 'score_out_of_10': 4.488},\n",
       "  {'color': '#b9117d',\n",
       "   'name': 'Internet Access',\n",
       "   'score_out_of_10': 5.605500000000001},\n",
       "  {'color': '#d10d54', 'name': 'Leisure & Culture', 'score_out_of_10': 9.407},\n",
       "  {'color': '#e70c26',\n",
       "   'name': 'Tolerance',\n",
       "   'score_out_of_10': 8.012500000000001},\n",
       "  {'color': '#f1351b', 'name': 'Outdoors', 'score_out_of_10': 7.014}],\n",
       " 'summary': '<p>San Francisco Bay Area, California, is among the leading cities with a <b>higher number of accelerators or available funding</b>.\\n\\n    \\n        According to our city rankings, this is a good place to live with high ratings in <b>startups</b>, <b>business freedom</b> and <b>healthcare</b>.\\n    \\n\\n    \\n</p>\\n\\n\\n    <p>San Francisco Bay Area is one of the top ten city matches for 6.9% of Teleport users.</p>\\n',\n",
       " 'teleport_city_score': 65.53635135135136}"
      ]
     },
     "execution_count": 5,
     "metadata": {},
     "output_type": "execute_result"
    }
   ],
   "source": [
    "data"
   ]
  },
  {
   "cell_type": "code",
   "execution_count": 76,
   "metadata": {},
   "outputs": [
    {
     "data": {
      "text/html": [
       "<div>\n",
       "<style scoped>\n",
       "    .dataframe tbody tr th:only-of-type {\n",
       "        vertical-align: middle;\n",
       "    }\n",
       "\n",
       "    .dataframe tbody tr th {\n",
       "        vertical-align: top;\n",
       "    }\n",
       "\n",
       "    .dataframe thead th {\n",
       "        text-align: right;\n",
       "    }\n",
       "</style>\n",
       "<table border=\"1\" class=\"dataframe\">\n",
       "  <thead>\n",
       "    <tr style=\"text-align: right;\">\n",
       "      <th></th>\n",
       "      <th>categories</th>\n",
       "      <th>summary</th>\n",
       "      <th>teleport_city_score</th>\n",
       "      <th>_links.curies</th>\n",
       "      <th>_links.self.href</th>\n",
       "    </tr>\n",
       "  </thead>\n",
       "  <tbody>\n",
       "    <tr>\n",
       "      <th>0</th>\n",
       "      <td>[{'color': '#f3c32c', 'name': 'Housing', 'scor...</td>\n",
       "      <td>&lt;p&gt;San Francisco Bay Area, California, is amon...</td>\n",
       "      <td>65.536351</td>\n",
       "      <td>[{'href': 'https://developers.teleport.org/api...</td>\n",
       "      <td>https://api.teleport.org/api/urban_areas/slug:...</td>\n",
       "    </tr>\n",
       "  </tbody>\n",
       "</table>\n",
       "</div>"
      ],
      "text/plain": [
       "                                          categories  \\\n",
       "0  [{'color': '#f3c32c', 'name': 'Housing', 'scor...   \n",
       "\n",
       "                                             summary  teleport_city_score  \\\n",
       "0  <p>San Francisco Bay Area, California, is amon...            65.536351   \n",
       "\n",
       "                                       _links.curies  \\\n",
       "0  [{'href': 'https://developers.teleport.org/api...   \n",
       "\n",
       "                                    _links.self.href  \n",
       "0  https://api.teleport.org/api/urban_areas/slug:...  "
      ]
     },
     "execution_count": 76,
     "metadata": {},
     "output_type": "execute_result"
    }
   ],
   "source": [
    "a=pd.json_normalize(data)\n",
    "a"
   ]
  },
  {
   "cell_type": "code",
   "execution_count": null,
   "metadata": {},
   "outputs": [],
   "source": [
    "pd.json_normalize(\n",
    "    data, \n",
    "    record_path =[\"categories\",\"_links.curies\"], \n",
    "    meta=['teleport_city_score'],\n",
    "    errors='ignore'\n",
    ")"
   ]
  }
 ],
 "metadata": {
  "kernelspec": {
   "display_name": "Python 3",
   "language": "python",
   "name": "python3"
  },
  "language_info": {
   "codemirror_mode": {
    "name": "ipython",
    "version": 3
   },
   "file_extension": ".py",
   "mimetype": "text/x-python",
   "name": "python",
   "nbconvert_exporter": "python",
   "pygments_lexer": "ipython3",
   "version": "3.8.5"
  }
 },
 "nbformat": 4,
 "nbformat_minor": 4
}
